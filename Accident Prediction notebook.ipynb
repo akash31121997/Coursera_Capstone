{
 "cells": [
  {
   "cell_type": "code",
   "execution_count": 1,
   "metadata": {},
   "outputs": [],
   "source": [
    "import pandas as pd\n",
    "import numpy as np\n",
    "import matplotlib.pyplot as plt\n",
    "import seaborn as sns\n",
    "%matplotlib inline"
   ]
  },
  {
   "cell_type": "code",
   "execution_count": 2,
   "metadata": {},
   "outputs": [],
   "source": [
    "data_train = pd.read_csv(\"./dataset/Accident_train.csv\")\n",
    "data_test = pd.read_csv(\"./dataset/Accident_test.csv\")"
   ]
  },
  {
   "cell_type": "code",
   "execution_count": 3,
   "metadata": {
    "scrolled": true
   },
   "outputs": [
    {
     "data": {
      "text/html": [
       "<div>\n",
       "<style scoped>\n",
       "    .dataframe tbody tr th:only-of-type {\n",
       "        vertical-align: middle;\n",
       "    }\n",
       "\n",
       "    .dataframe tbody tr th {\n",
       "        vertical-align: top;\n",
       "    }\n",
       "\n",
       "    .dataframe thead th {\n",
       "        text-align: right;\n",
       "    }\n",
       "</style>\n",
       "<table border=\"1\" class=\"dataframe\">\n",
       "  <thead>\n",
       "    <tr style=\"text-align: right;\">\n",
       "      <th></th>\n",
       "      <th>Collision_Ref_No</th>\n",
       "      <th>Policing_Area</th>\n",
       "      <th>Collision_Severity</th>\n",
       "      <th>Weekday_of_Collision</th>\n",
       "      <th>Day_of_Collision</th>\n",
       "      <th>Month_of_Collision</th>\n",
       "      <th>Hour_of_Collision</th>\n",
       "      <th>Carriageway_Type</th>\n",
       "      <th>Speed_Limit</th>\n",
       "      <th>Junction_Detail</th>\n",
       "      <th>Junction_Control</th>\n",
       "      <th>Ped_Crossing_HC</th>\n",
       "      <th>Ped_Crossing_PC</th>\n",
       "      <th>Light_Conditions</th>\n",
       "      <th>Weather_Conditions</th>\n",
       "      <th>Road_Surface_Conditions</th>\n",
       "      <th>Special_Conditions_at_Site</th>\n",
       "    </tr>\n",
       "  </thead>\n",
       "  <tbody>\n",
       "    <tr>\n",
       "      <th>0</th>\n",
       "      <td>3518</td>\n",
       "      <td>CREA</td>\n",
       "      <td>3</td>\n",
       "      <td>MON</td>\n",
       "      <td>4</td>\n",
       "      <td>8</td>\n",
       "      <td>14.0</td>\n",
       "      <td>13</td>\n",
       "      <td>60</td>\n",
       "      <td>1.0</td>\n",
       "      <td>1.0</td>\n",
       "      <td>1.0</td>\n",
       "      <td>1.0</td>\n",
       "      <td>2</td>\n",
       "      <td>9</td>\n",
       "      <td>9.0</td>\n",
       "      <td>1.0</td>\n",
       "    </tr>\n",
       "    <tr>\n",
       "      <th>1</th>\n",
       "      <td>10557</td>\n",
       "      <td>BELC</td>\n",
       "      <td>3</td>\n",
       "      <td>SAT</td>\n",
       "      <td>8</td>\n",
       "      <td>8</td>\n",
       "      <td>17.0</td>\n",
       "      <td>11</td>\n",
       "      <td>50</td>\n",
       "      <td>12.0</td>\n",
       "      <td>7.0</td>\n",
       "      <td>1.0</td>\n",
       "      <td>1.0</td>\n",
       "      <td>4</td>\n",
       "      <td>3</td>\n",
       "      <td>1.0</td>\n",
       "      <td>1.0</td>\n",
       "    </tr>\n",
       "    <tr>\n",
       "      <th>2</th>\n",
       "      <td>5002</td>\n",
       "      <td>LISB</td>\n",
       "      <td>3</td>\n",
       "      <td>WED</td>\n",
       "      <td>5</td>\n",
       "      <td>11</td>\n",
       "      <td>17.0</td>\n",
       "      <td>1</td>\n",
       "      <td>60</td>\n",
       "      <td>12.0</td>\n",
       "      <td>7.0</td>\n",
       "      <td>1.0</td>\n",
       "      <td>1.0</td>\n",
       "      <td>2</td>\n",
       "      <td>2</td>\n",
       "      <td>2.0</td>\n",
       "      <td>1.0</td>\n",
       "    </tr>\n",
       "    <tr>\n",
       "      <th>3</th>\n",
       "      <td>11714</td>\n",
       "      <td>BELC</td>\n",
       "      <td>3</td>\n",
       "      <td>SUN</td>\n",
       "      <td>18</td>\n",
       "      <td>10</td>\n",
       "      <td>16.0</td>\n",
       "      <td>12</td>\n",
       "      <td>70</td>\n",
       "      <td>6.0</td>\n",
       "      <td>NaN</td>\n",
       "      <td>1.0</td>\n",
       "      <td>1.0</td>\n",
       "      <td>1</td>\n",
       "      <td>3</td>\n",
       "      <td>1.0</td>\n",
       "      <td>1.0</td>\n",
       "    </tr>\n",
       "    <tr>\n",
       "      <th>4</th>\n",
       "      <td>12416</td>\n",
       "      <td>MIDU</td>\n",
       "      <td>3</td>\n",
       "      <td>MON</td>\n",
       "      <td>23</td>\n",
       "      <td>11</td>\n",
       "      <td>9.0</td>\n",
       "      <td>13</td>\n",
       "      <td>60</td>\n",
       "      <td>6.0</td>\n",
       "      <td>7.0</td>\n",
       "      <td>1.0</td>\n",
       "      <td>1.0</td>\n",
       "      <td>2</td>\n",
       "      <td>3</td>\n",
       "      <td>1.0</td>\n",
       "      <td>1.0</td>\n",
       "    </tr>\n",
       "  </tbody>\n",
       "</table>\n",
       "</div>"
      ],
      "text/plain": [
       "   Collision_Ref_No Policing_Area  Collision_Severity Weekday_of_Collision  \\\n",
       "0              3518          CREA                   3                  MON   \n",
       "1             10557          BELC                   3                  SAT   \n",
       "2              5002          LISB                   3                  WED   \n",
       "3             11714          BELC                   3                  SUN   \n",
       "4             12416          MIDU                   3                  MON   \n",
       "\n",
       "   Day_of_Collision  Month_of_Collision  Hour_of_Collision  Carriageway_Type  \\\n",
       "0                 4                   8               14.0                13   \n",
       "1                 8                   8               17.0                11   \n",
       "2                 5                  11               17.0                 1   \n",
       "3                18                  10               16.0                12   \n",
       "4                23                  11                9.0                13   \n",
       "\n",
       "   Speed_Limit  Junction_Detail  Junction_Control  Ped_Crossing_HC  \\\n",
       "0           60              1.0               1.0              1.0   \n",
       "1           50             12.0               7.0              1.0   \n",
       "2           60             12.0               7.0              1.0   \n",
       "3           70              6.0               NaN              1.0   \n",
       "4           60              6.0               7.0              1.0   \n",
       "\n",
       "   Ped_Crossing_PC  Light_Conditions  Weather_Conditions  \\\n",
       "0              1.0                 2                   9   \n",
       "1              1.0                 4                   3   \n",
       "2              1.0                 2                   2   \n",
       "3              1.0                 1                   3   \n",
       "4              1.0                 2                   3   \n",
       "\n",
       "   Road_Surface_Conditions  Special_Conditions_at_Site  \n",
       "0                      9.0                         1.0  \n",
       "1                      1.0                         1.0  \n",
       "2                      2.0                         1.0  \n",
       "3                      1.0                         1.0  \n",
       "4                      1.0                         1.0  "
      ]
     },
     "execution_count": 3,
     "metadata": {},
     "output_type": "execute_result"
    }
   ],
   "source": [
    "data_train.head()"
   ]
  },
  {
   "cell_type": "code",
   "execution_count": 4,
   "metadata": {},
   "outputs": [
    {
     "name": "stdout",
     "output_type": "stream",
     "text": [
      "<class 'pandas.core.frame.DataFrame'>\n",
      "RangeIndex: 8849 entries, 0 to 8848\n",
      "Data columns (total 17 columns):\n",
      " #   Column                      Non-Null Count  Dtype  \n",
      "---  ------                      --------------  -----  \n",
      " 0   Collision_Ref_No            8849 non-null   int64  \n",
      " 1   Policing_Area               8562 non-null   object \n",
      " 2   Collision_Severity          8849 non-null   int64  \n",
      " 3   Weekday_of_Collision        8849 non-null   object \n",
      " 4   Day_of_Collision            8849 non-null   int64  \n",
      " 5   Month_of_Collision          8849 non-null   int64  \n",
      " 6   Hour_of_Collision           8601 non-null   float64\n",
      " 7   Carriageway_Type            8849 non-null   int64  \n",
      " 8   Speed_Limit                 8849 non-null   int64  \n",
      " 9   Junction_Detail             8593 non-null   float64\n",
      " 10  Junction_Control            8590 non-null   float64\n",
      " 11  Ped_Crossing_HC             8573 non-null   float64\n",
      " 12  Ped_Crossing_PC             8584 non-null   float64\n",
      " 13  Light_Conditions            8849 non-null   int64  \n",
      " 14  Weather_Conditions          8849 non-null   int64  \n",
      " 15  Road_Surface_Conditions     8575 non-null   float64\n",
      " 16  Special_Conditions_at_Site  8600 non-null   float64\n",
      "dtypes: float64(7), int64(8), object(2)\n",
      "memory usage: 1.1+ MB\n"
     ]
    }
   ],
   "source": [
    "data_train.info()"
   ]
  },
  {
   "cell_type": "code",
   "execution_count": 5,
   "metadata": {},
   "outputs": [
    {
     "data": {
      "text/html": [
       "<div>\n",
       "<style scoped>\n",
       "    .dataframe tbody tr th:only-of-type {\n",
       "        vertical-align: middle;\n",
       "    }\n",
       "\n",
       "    .dataframe tbody tr th {\n",
       "        vertical-align: top;\n",
       "    }\n",
       "\n",
       "    .dataframe thead th {\n",
       "        text-align: right;\n",
       "    }\n",
       "</style>\n",
       "<table border=\"1\" class=\"dataframe\">\n",
       "  <thead>\n",
       "    <tr style=\"text-align: right;\">\n",
       "      <th></th>\n",
       "      <th>Collision_Ref_No</th>\n",
       "      <th>Policing_Area</th>\n",
       "      <th>Collision_Severity</th>\n",
       "      <th>Weekday_of_Collision</th>\n",
       "      <th>Day_of_Collision</th>\n",
       "      <th>Month_of_Collision</th>\n",
       "      <th>Hour_of_Collision</th>\n",
       "      <th>Carriageway_Type</th>\n",
       "      <th>Speed_Limit</th>\n",
       "      <th>Junction_Detail</th>\n",
       "      <th>Junction_Control</th>\n",
       "      <th>Ped_Crossing_HC</th>\n",
       "      <th>Ped_Crossing_PC</th>\n",
       "      <th>Light_Conditions</th>\n",
       "      <th>Weather_Conditions</th>\n",
       "      <th>Road_Surface_Conditions</th>\n",
       "      <th>Special_Conditions_at_Site</th>\n",
       "    </tr>\n",
       "  </thead>\n",
       "  <tbody>\n",
       "    <tr>\n",
       "      <th>count</th>\n",
       "      <td>8849.000000</td>\n",
       "      <td>8562</td>\n",
       "      <td>8849.000000</td>\n",
       "      <td>8849</td>\n",
       "      <td>8849.000000</td>\n",
       "      <td>8849.000000</td>\n",
       "      <td>8601.000000</td>\n",
       "      <td>8849.000000</td>\n",
       "      <td>8849.000000</td>\n",
       "      <td>8593.000000</td>\n",
       "      <td>8590.000000</td>\n",
       "      <td>8573.000000</td>\n",
       "      <td>8584.000000</td>\n",
       "      <td>8849.000000</td>\n",
       "      <td>8849.000000</td>\n",
       "      <td>8575.000000</td>\n",
       "      <td>8600.000000</td>\n",
       "    </tr>\n",
       "    <tr>\n",
       "      <th>unique</th>\n",
       "      <td>NaN</td>\n",
       "      <td>40</td>\n",
       "      <td>NaN</td>\n",
       "      <td>7</td>\n",
       "      <td>NaN</td>\n",
       "      <td>NaN</td>\n",
       "      <td>NaN</td>\n",
       "      <td>NaN</td>\n",
       "      <td>NaN</td>\n",
       "      <td>NaN</td>\n",
       "      <td>NaN</td>\n",
       "      <td>NaN</td>\n",
       "      <td>NaN</td>\n",
       "      <td>NaN</td>\n",
       "      <td>NaN</td>\n",
       "      <td>NaN</td>\n",
       "      <td>NaN</td>\n",
       "    </tr>\n",
       "    <tr>\n",
       "      <th>top</th>\n",
       "      <td>NaN</td>\n",
       "      <td>BELC</td>\n",
       "      <td>NaN</td>\n",
       "      <td>FRI</td>\n",
       "      <td>NaN</td>\n",
       "      <td>NaN</td>\n",
       "      <td>NaN</td>\n",
       "      <td>NaN</td>\n",
       "      <td>NaN</td>\n",
       "      <td>NaN</td>\n",
       "      <td>NaN</td>\n",
       "      <td>NaN</td>\n",
       "      <td>NaN</td>\n",
       "      <td>NaN</td>\n",
       "      <td>NaN</td>\n",
       "      <td>NaN</td>\n",
       "      <td>NaN</td>\n",
       "    </tr>\n",
       "    <tr>\n",
       "      <th>freq</th>\n",
       "      <td>NaN</td>\n",
       "      <td>1110</td>\n",
       "      <td>NaN</td>\n",
       "      <td>1489</td>\n",
       "      <td>NaN</td>\n",
       "      <td>NaN</td>\n",
       "      <td>NaN</td>\n",
       "      <td>NaN</td>\n",
       "      <td>NaN</td>\n",
       "      <td>NaN</td>\n",
       "      <td>NaN</td>\n",
       "      <td>NaN</td>\n",
       "      <td>NaN</td>\n",
       "      <td>NaN</td>\n",
       "      <td>NaN</td>\n",
       "      <td>NaN</td>\n",
       "      <td>NaN</td>\n",
       "    </tr>\n",
       "    <tr>\n",
       "      <th>mean</th>\n",
       "      <td>6549.713301</td>\n",
       "      <td>NaN</td>\n",
       "      <td>2.879760</td>\n",
       "      <td>NaN</td>\n",
       "      <td>15.666968</td>\n",
       "      <td>6.648887</td>\n",
       "      <td>13.656435</td>\n",
       "      <td>12.216635</td>\n",
       "      <td>42.398576</td>\n",
       "      <td>6.394042</td>\n",
       "      <td>4.151921</td>\n",
       "      <td>1.008165</td>\n",
       "      <td>2.225186</td>\n",
       "      <td>3.237767</td>\n",
       "      <td>4.748559</td>\n",
       "      <td>1.662391</td>\n",
       "      <td>1.059767</td>\n",
       "    </tr>\n",
       "    <tr>\n",
       "      <th>std</th>\n",
       "      <td>3923.960064</td>\n",
       "      <td>NaN</td>\n",
       "      <td>0.361779</td>\n",
       "      <td>NaN</td>\n",
       "      <td>8.787266</td>\n",
       "      <td>3.522405</td>\n",
       "      <td>5.093198</td>\n",
       "      <td>2.720512</td>\n",
       "      <td>14.515087</td>\n",
       "      <td>5.018909</td>\n",
       "      <td>2.865900</td>\n",
       "      <td>0.119020</td>\n",
       "      <td>3.246266</td>\n",
       "      <td>2.071881</td>\n",
       "      <td>3.748682</td>\n",
       "      <td>1.468494</td>\n",
       "      <td>0.492445</td>\n",
       "    </tr>\n",
       "    <tr>\n",
       "      <th>min</th>\n",
       "      <td>1.000000</td>\n",
       "      <td>NaN</td>\n",
       "      <td>1.000000</td>\n",
       "      <td>NaN</td>\n",
       "      <td>1.000000</td>\n",
       "      <td>1.000000</td>\n",
       "      <td>0.000000</td>\n",
       "      <td>1.000000</td>\n",
       "      <td>10.000000</td>\n",
       "      <td>1.000000</td>\n",
       "      <td>1.000000</td>\n",
       "      <td>1.000000</td>\n",
       "      <td>1.000000</td>\n",
       "      <td>1.000000</td>\n",
       "      <td>1.000000</td>\n",
       "      <td>1.000000</td>\n",
       "      <td>1.000000</td>\n",
       "    </tr>\n",
       "    <tr>\n",
       "      <th>25%</th>\n",
       "      <td>3033.000000</td>\n",
       "      <td>NaN</td>\n",
       "      <td>3.000000</td>\n",
       "      <td>NaN</td>\n",
       "      <td>8.000000</td>\n",
       "      <td>4.000000</td>\n",
       "      <td>10.000000</td>\n",
       "      <td>13.000000</td>\n",
       "      <td>30.000000</td>\n",
       "      <td>1.000000</td>\n",
       "      <td>1.000000</td>\n",
       "      <td>1.000000</td>\n",
       "      <td>1.000000</td>\n",
       "      <td>1.000000</td>\n",
       "      <td>2.000000</td>\n",
       "      <td>1.000000</td>\n",
       "      <td>1.000000</td>\n",
       "    </tr>\n",
       "    <tr>\n",
       "      <th>50%</th>\n",
       "      <td>6073.000000</td>\n",
       "      <td>NaN</td>\n",
       "      <td>3.000000</td>\n",
       "      <td>NaN</td>\n",
       "      <td>16.000000</td>\n",
       "      <td>7.000000</td>\n",
       "      <td>14.000000</td>\n",
       "      <td>13.000000</td>\n",
       "      <td>30.000000</td>\n",
       "      <td>6.000000</td>\n",
       "      <td>4.000000</td>\n",
       "      <td>1.000000</td>\n",
       "      <td>1.000000</td>\n",
       "      <td>3.000000</td>\n",
       "      <td>3.000000</td>\n",
       "      <td>1.000000</td>\n",
       "      <td>1.000000</td>\n",
       "    </tr>\n",
       "    <tr>\n",
       "      <th>75%</th>\n",
       "      <td>10072.000000</td>\n",
       "      <td>NaN</td>\n",
       "      <td>3.000000</td>\n",
       "      <td>NaN</td>\n",
       "      <td>23.000000</td>\n",
       "      <td>10.000000</td>\n",
       "      <td>17.000000</td>\n",
       "      <td>13.000000</td>\n",
       "      <td>60.000000</td>\n",
       "      <td>12.000000</td>\n",
       "      <td>7.000000</td>\n",
       "      <td>1.000000</td>\n",
       "      <td>1.000000</td>\n",
       "      <td>5.000000</td>\n",
       "      <td>9.000000</td>\n",
       "      <td>2.000000</td>\n",
       "      <td>1.000000</td>\n",
       "    </tr>\n",
       "    <tr>\n",
       "      <th>max</th>\n",
       "      <td>13147.000000</td>\n",
       "      <td>NaN</td>\n",
       "      <td>3.000000</td>\n",
       "      <td>NaN</td>\n",
       "      <td>31.000000</td>\n",
       "      <td>12.000000</td>\n",
       "      <td>23.000000</td>\n",
       "      <td>14.000000</td>\n",
       "      <td>70.000000</td>\n",
       "      <td>12.000000</td>\n",
       "      <td>7.000000</td>\n",
       "      <td>3.000000</td>\n",
       "      <td>12.000000</td>\n",
       "      <td>7.000000</td>\n",
       "      <td>10.000000</td>\n",
       "      <td>10.000000</td>\n",
       "      <td>6.000000</td>\n",
       "    </tr>\n",
       "  </tbody>\n",
       "</table>\n",
       "</div>"
      ],
      "text/plain": [
       "        Collision_Ref_No Policing_Area  Collision_Severity  \\\n",
       "count        8849.000000          8562         8849.000000   \n",
       "unique               NaN            40                 NaN   \n",
       "top                  NaN          BELC                 NaN   \n",
       "freq                 NaN          1110                 NaN   \n",
       "mean         6549.713301           NaN            2.879760   \n",
       "std          3923.960064           NaN            0.361779   \n",
       "min             1.000000           NaN            1.000000   \n",
       "25%          3033.000000           NaN            3.000000   \n",
       "50%          6073.000000           NaN            3.000000   \n",
       "75%         10072.000000           NaN            3.000000   \n",
       "max         13147.000000           NaN            3.000000   \n",
       "\n",
       "       Weekday_of_Collision  Day_of_Collision  Month_of_Collision  \\\n",
       "count                  8849       8849.000000         8849.000000   \n",
       "unique                    7               NaN                 NaN   \n",
       "top                     FRI               NaN                 NaN   \n",
       "freq                   1489               NaN                 NaN   \n",
       "mean                    NaN         15.666968            6.648887   \n",
       "std                     NaN          8.787266            3.522405   \n",
       "min                     NaN          1.000000            1.000000   \n",
       "25%                     NaN          8.000000            4.000000   \n",
       "50%                     NaN         16.000000            7.000000   \n",
       "75%                     NaN         23.000000           10.000000   \n",
       "max                     NaN         31.000000           12.000000   \n",
       "\n",
       "        Hour_of_Collision  Carriageway_Type  Speed_Limit  Junction_Detail  \\\n",
       "count         8601.000000       8849.000000  8849.000000      8593.000000   \n",
       "unique                NaN               NaN          NaN              NaN   \n",
       "top                   NaN               NaN          NaN              NaN   \n",
       "freq                  NaN               NaN          NaN              NaN   \n",
       "mean            13.656435         12.216635    42.398576         6.394042   \n",
       "std              5.093198          2.720512    14.515087         5.018909   \n",
       "min              0.000000          1.000000    10.000000         1.000000   \n",
       "25%             10.000000         13.000000    30.000000         1.000000   \n",
       "50%             14.000000         13.000000    30.000000         6.000000   \n",
       "75%             17.000000         13.000000    60.000000        12.000000   \n",
       "max             23.000000         14.000000    70.000000        12.000000   \n",
       "\n",
       "        Junction_Control  Ped_Crossing_HC  Ped_Crossing_PC  Light_Conditions  \\\n",
       "count        8590.000000      8573.000000      8584.000000       8849.000000   \n",
       "unique               NaN              NaN              NaN               NaN   \n",
       "top                  NaN              NaN              NaN               NaN   \n",
       "freq                 NaN              NaN              NaN               NaN   \n",
       "mean            4.151921         1.008165         2.225186          3.237767   \n",
       "std             2.865900         0.119020         3.246266          2.071881   \n",
       "min             1.000000         1.000000         1.000000          1.000000   \n",
       "25%             1.000000         1.000000         1.000000          1.000000   \n",
       "50%             4.000000         1.000000         1.000000          3.000000   \n",
       "75%             7.000000         1.000000         1.000000          5.000000   \n",
       "max             7.000000         3.000000        12.000000          7.000000   \n",
       "\n",
       "        Weather_Conditions  Road_Surface_Conditions  \\\n",
       "count          8849.000000              8575.000000   \n",
       "unique                 NaN                      NaN   \n",
       "top                    NaN                      NaN   \n",
       "freq                   NaN                      NaN   \n",
       "mean              4.748559                 1.662391   \n",
       "std               3.748682                 1.468494   \n",
       "min               1.000000                 1.000000   \n",
       "25%               2.000000                 1.000000   \n",
       "50%               3.000000                 1.000000   \n",
       "75%               9.000000                 2.000000   \n",
       "max              10.000000                10.000000   \n",
       "\n",
       "        Special_Conditions_at_Site  \n",
       "count                  8600.000000  \n",
       "unique                         NaN  \n",
       "top                            NaN  \n",
       "freq                           NaN  \n",
       "mean                      1.059767  \n",
       "std                       0.492445  \n",
       "min                       1.000000  \n",
       "25%                       1.000000  \n",
       "50%                       1.000000  \n",
       "75%                       1.000000  \n",
       "max                       6.000000  "
      ]
     },
     "execution_count": 5,
     "metadata": {},
     "output_type": "execute_result"
    }
   ],
   "source": [
    "data_train.describe(include='all')"
   ]
  },
  {
   "cell_type": "code",
   "execution_count": 6,
   "metadata": {},
   "outputs": [
    {
     "data": {
      "text/plain": [
       "FRI    1489\n",
       "THU    1388\n",
       "WED    1355\n",
       "TUE    1302\n",
       "MON    1243\n",
       "SAT    1138\n",
       "SUN     934\n",
       "Name: Weekday_of_Collision, dtype: int64"
      ]
     },
     "execution_count": 6,
     "metadata": {},
     "output_type": "execute_result"
    }
   ],
   "source": [
    "data_train['Weekday_of_Collision'].value_counts()"
   ]
  },
  {
   "cell_type": "code",
   "execution_count": 7,
   "metadata": {},
   "outputs": [
    {
     "data": {
      "text/plain": [
       "BELC    1110\n",
       "ARBC     401\n",
       "NEMD     392\n",
       "LISC     385\n",
       "LISB     332\n",
       "BELS     329\n",
       "ANTN     311\n",
       "ARND     302\n",
       "DCST     293\n",
       "MIDU     292\n",
       "BELN     268\n",
       "CCGL     268\n",
       "MEAN     267\n",
       "FERO     254\n",
       "FOYL     249\n",
       "CRAI     228\n",
       "NEWM     223\n",
       "BELW     207\n",
       "NABB     185\n",
       "BELE     181\n",
       "ARDS     167\n",
       "DOWN     157\n",
       "BMEN     154\n",
       "NDOW     143\n",
       "ANTR     137\n",
       "CREA     131\n",
       "DAST     126\n",
       "ARMA     123\n",
       "COLE     115\n",
       "FERM     114\n",
       "OMAG     108\n",
       "BANB     102\n",
       "MFEL      94\n",
       "LIMA      77\n",
       "STRB      65\n",
       "CFER      65\n",
       "BMON      62\n",
       "COOK      61\n",
       "LARN      58\n",
       "MOYL      26\n",
       "Name: Policing_Area, dtype: int64"
      ]
     },
     "execution_count": 7,
     "metadata": {},
     "output_type": "execute_result"
    }
   ],
   "source": [
    "data_train[\"Policing_Area\"].value_counts()"
   ]
  },
  {
   "cell_type": "code",
   "execution_count": 9,
   "metadata": {},
   "outputs": [
    {
     "data": {
      "text/plain": [
       "3    7896\n",
       "2     842\n",
       "1     111\n",
       "Name: Collision_Severity, dtype: int64"
      ]
     },
     "execution_count": 9,
     "metadata": {},
     "output_type": "execute_result"
    }
   ],
   "source": [
    "data_train['Collision_Severity'].value_counts()"
   ]
  },
  {
   "cell_type": "code",
   "execution_count": 10,
   "metadata": {},
   "outputs": [
    {
     "data": {
      "text/plain": [
       "12    845\n",
       "11    832\n",
       "10    809\n",
       "6     792\n",
       "1     754\n",
       "3     747\n",
       "5     699\n",
       "8     686\n",
       "2     683\n",
       "9     674\n",
       "4     668\n",
       "7     660\n",
       "Name: Month_of_Collision, dtype: int64"
      ]
     },
     "execution_count": 10,
     "metadata": {},
     "output_type": "execute_result"
    }
   ],
   "source": [
    "data_train['Month_of_Collision'].value_counts()"
   ]
  },
  {
   "cell_type": "code",
   "execution_count": 10,
   "metadata": {},
   "outputs": [
    {
     "data": {
      "text/plain": [
       "17.0    808\n",
       "15.0    687\n",
       "16.0    643\n",
       "18.0    636\n",
       "14.0    615\n",
       "8.0     577\n",
       "13.0    573\n",
       "12.0    515\n",
       "9.0     475\n",
       "19.0    418\n",
       "11.0    414\n",
       "10.0    386\n",
       "20.0    333\n",
       "7.0     265\n",
       "21.0    265\n",
       "22.0    230\n",
       "23.0    153\n",
       "0.0     125\n",
       "1.0     118\n",
       "2.0     104\n",
       "6.0      98\n",
       "3.0      77\n",
       "5.0      48\n",
       "4.0      38\n",
       "Name: Hour_of_Collision, dtype: int64"
      ]
     },
     "execution_count": 10,
     "metadata": {},
     "output_type": "execute_result"
    }
   ],
   "source": [
    "data_train['Hour_of_Collision'].value_counts()"
   ]
  },
  {
   "cell_type": "code",
   "execution_count": 11,
   "metadata": {},
   "outputs": [
    {
     "data": {
      "text/plain": [
       "7.0    4204\n",
       "1.0    3600\n",
       "3.0     507\n",
       "4.0     279\n",
       "Name: Junction_Control, dtype: int64"
      ]
     },
     "execution_count": 11,
     "metadata": {},
     "output_type": "execute_result"
    }
   ],
   "source": [
    "data_train['Junction_Control'].value_counts()"
   ]
  },
  {
   "cell_type": "code",
   "execution_count": 12,
   "metadata": {},
   "outputs": [
    {
     "data": {
      "text/plain": [
       "1.0    8529\n",
       "3.0      26\n",
       "2.0      18\n",
       "Name: Ped_Crossing_HC, dtype: int64"
      ]
     },
     "execution_count": 12,
     "metadata": {},
     "output_type": "execute_result"
    }
   ],
   "source": [
    "data_train['Ped_Crossing_HC'].value_counts()"
   ]
  },
  {
   "cell_type": "code",
   "execution_count": 13,
   "metadata": {},
   "outputs": [
    {
     "data": {
      "text/plain": [
       "1.0     7433\n",
       "11.0     660\n",
       "12.0     195\n",
       "9.0      188\n",
       "2.0       88\n",
       "10.0      20\n",
       "Name: Ped_Crossing_PC, dtype: int64"
      ]
     },
     "execution_count": 13,
     "metadata": {},
     "output_type": "execute_result"
    }
   ],
   "source": [
    "data_train['Ped_Crossing_PC'].value_counts()"
   ]
  },
  {
   "cell_type": "code",
   "execution_count": 14,
   "metadata": {},
   "outputs": [
    {
     "data": {
      "text/plain": [
       "1    2276\n",
       "2    2042\n",
       "3    1223\n",
       "7    1129\n",
       "5     919\n",
       "4     718\n",
       "6     542\n",
       "Name: Light_Conditions, dtype: int64"
      ]
     },
     "execution_count": 14,
     "metadata": {},
     "output_type": "execute_result"
    }
   ],
   "source": [
    "data_train['Light_Conditions'].value_counts()"
   ]
  },
  {
   "cell_type": "code",
   "execution_count": 15,
   "metadata": {},
   "outputs": [
    {
     "data": {
      "text/plain": [
       "1     2211\n",
       "10    1695\n",
       "2     1681\n",
       "3     1606\n",
       "9     1590\n",
       "5       30\n",
       "4       14\n",
       "8       12\n",
       "7        7\n",
       "6        3\n",
       "Name: Weather_Conditions, dtype: int64"
      ]
     },
     "execution_count": 15,
     "metadata": {},
     "output_type": "execute_result"
    }
   ],
   "source": [
    "data_train['Weather_Conditions'].value_counts()"
   ]
  },
  {
   "cell_type": "code",
   "execution_count": 17,
   "metadata": {
    "scrolled": true
   },
   "outputs": [
    {
     "data": {
      "text/plain": [
       "1.0     5284\n",
       "2.0     2760\n",
       "4.0      141\n",
       "10.0     105\n",
       "9.0       87\n",
       "6.0       85\n",
       "3.0       50\n",
       "5.0       28\n",
       "7.0       26\n",
       "8.0        9\n",
       "Name: Road_Surface_Conditions, dtype: int64"
      ]
     },
     "execution_count": 17,
     "metadata": {},
     "output_type": "execute_result"
    }
   ],
   "source": [
    "data_train['Road_Surface_Conditions'].value_counts()"
   ]
  },
  {
   "cell_type": "code",
   "execution_count": 20,
   "metadata": {},
   "outputs": [
    {
     "data": {
      "text/plain": [
       "<matplotlib.axes._subplots.AxesSubplot at 0x18cf7c24808>"
      ]
     },
     "execution_count": 20,
     "metadata": {},
     "output_type": "execute_result"
    },
    {
     "data": {
      "image/png": "[encoded data removed]",
      "text/plain": [
       "<Figure size 432x288 with 1 Axes>"
      ]
     },
     "metadata": {
      "needs_background": "light"
     },
     "output_type": "display_data"
    }
   ],
   "source": [
    "data_train['Collision_Severity'].value_counts().plot(kind='bar')"
   ]
  },
  {
   "cell_type": "code",
   "execution_count": 21,
   "metadata": {},
   "outputs": [],
   "source": [
    "from sklearn.preprocessing import LabelEncoder\n",
    "le = LabelEncoder()\n",
    "# lable encoder for data_train\n",
    "data_train['Policing_Area'] = le.fit_transform(data_train['Policing_Area'].astype(str))"
   ]
  },
  {
   "cell_type": "code",
   "execution_count": 22,
   "metadata": {},
   "outputs": [
    {
     "data": {
      "text/plain": [
       "5    1489\n",
       "4    1388\n",
       "3    1355\n",
       "2    1302\n",
       "1    1243\n",
       "6    1138\n",
       "7     934\n",
       "Name: Weekday_of_Collision, dtype: int64"
      ]
     },
     "execution_count": 22,
     "metadata": {},
     "output_type": "execute_result"
    }
   ],
   "source": [
    "data_train.replace(['MON','TUE','WED','THU','FRI','SAT','SUN'], [1,2,3,4,5,6,7], inplace= True)\n",
    "data_train['Weekday_of_Collision'].value_counts()"
   ]
  },
  {
   "cell_type": "code",
   "execution_count": 23,
   "metadata": {},
   "outputs": [
    {
     "data": {
      "text/html": [
       "<div>\n",
       "<style scoped>\n",
       "    .dataframe tbody tr th:only-of-type {\n",
       "        vertical-align: middle;\n",
       "    }\n",
       "\n",
       "    .dataframe tbody tr th {\n",
       "        vertical-align: top;\n",
       "    }\n",
       "\n",
       "    .dataframe thead th {\n",
       "        text-align: right;\n",
       "    }\n",
       "</style>\n",
       "<table border=\"1\" class=\"dataframe\">\n",
       "  <thead>\n",
       "    <tr style=\"text-align: right;\">\n",
       "      <th></th>\n",
       "      <th>Collision_Ref_No</th>\n",
       "      <th>Policing_Area</th>\n",
       "      <th>Collision_Severity</th>\n",
       "      <th>Weekday_of_Collision</th>\n",
       "      <th>Day_of_Collision</th>\n",
       "      <th>Month_of_Collision</th>\n",
       "      <th>Hour_of_Collision</th>\n",
       "      <th>Carriageway_Type</th>\n",
       "      <th>Speed_Limit</th>\n",
       "      <th>Junction_Detail</th>\n",
       "      <th>Junction_Control</th>\n",
       "      <th>Ped_Crossing_HC</th>\n",
       "      <th>Ped_Crossing_PC</th>\n",
       "      <th>Light_Conditions</th>\n",
       "      <th>Weather_Conditions</th>\n",
       "      <th>Road_Surface_Conditions</th>\n",
       "      <th>Special_Conditions_at_Site</th>\n",
       "    </tr>\n",
       "  </thead>\n",
       "  <tbody>\n",
       "    <tr>\n",
       "      <th>0</th>\n",
       "      <td>3518</td>\n",
       "      <td>19</td>\n",
       "      <td>3</td>\n",
       "      <td>1</td>\n",
       "      <td>4</td>\n",
       "      <td>8</td>\n",
       "      <td>14.0</td>\n",
       "      <td>13</td>\n",
       "      <td>60</td>\n",
       "      <td>1.0</td>\n",
       "      <td>1.0</td>\n",
       "      <td>1.0</td>\n",
       "      <td>1.0</td>\n",
       "      <td>2</td>\n",
       "      <td>9</td>\n",
       "      <td>9.0</td>\n",
       "      <td>1.0</td>\n",
       "    </tr>\n",
       "    <tr>\n",
       "      <th>1</th>\n",
       "      <td>10557</td>\n",
       "      <td>7</td>\n",
       "      <td>3</td>\n",
       "      <td>6</td>\n",
       "      <td>8</td>\n",
       "      <td>8</td>\n",
       "      <td>17.0</td>\n",
       "      <td>11</td>\n",
       "      <td>50</td>\n",
       "      <td>12.0</td>\n",
       "      <td>7.0</td>\n",
       "      <td>1.0</td>\n",
       "      <td>1.0</td>\n",
       "      <td>4</td>\n",
       "      <td>3</td>\n",
       "      <td>1.0</td>\n",
       "      <td>1.0</td>\n",
       "    </tr>\n",
       "    <tr>\n",
       "      <th>2</th>\n",
       "      <td>5002</td>\n",
       "      <td>28</td>\n",
       "      <td>3</td>\n",
       "      <td>3</td>\n",
       "      <td>5</td>\n",
       "      <td>11</td>\n",
       "      <td>17.0</td>\n",
       "      <td>1</td>\n",
       "      <td>60</td>\n",
       "      <td>12.0</td>\n",
       "      <td>7.0</td>\n",
       "      <td>1.0</td>\n",
       "      <td>1.0</td>\n",
       "      <td>2</td>\n",
       "      <td>2</td>\n",
       "      <td>2.0</td>\n",
       "      <td>1.0</td>\n",
       "    </tr>\n",
       "    <tr>\n",
       "      <th>3</th>\n",
       "      <td>11714</td>\n",
       "      <td>7</td>\n",
       "      <td>3</td>\n",
       "      <td>7</td>\n",
       "      <td>18</td>\n",
       "      <td>10</td>\n",
       "      <td>16.0</td>\n",
       "      <td>12</td>\n",
       "      <td>70</td>\n",
       "      <td>6.0</td>\n",
       "      <td>NaN</td>\n",
       "      <td>1.0</td>\n",
       "      <td>1.0</td>\n",
       "      <td>1</td>\n",
       "      <td>3</td>\n",
       "      <td>1.0</td>\n",
       "      <td>1.0</td>\n",
       "    </tr>\n",
       "    <tr>\n",
       "      <th>4</th>\n",
       "      <td>12416</td>\n",
       "      <td>32</td>\n",
       "      <td>3</td>\n",
       "      <td>1</td>\n",
       "      <td>23</td>\n",
       "      <td>11</td>\n",
       "      <td>9.0</td>\n",
       "      <td>13</td>\n",
       "      <td>60</td>\n",
       "      <td>6.0</td>\n",
       "      <td>7.0</td>\n",
       "      <td>1.0</td>\n",
       "      <td>1.0</td>\n",
       "      <td>2</td>\n",
       "      <td>3</td>\n",
       "      <td>1.0</td>\n",
       "      <td>1.0</td>\n",
       "    </tr>\n",
       "  </tbody>\n",
       "</table>\n",
       "</div>"
      ],
      "text/plain": [
       "   Collision_Ref_No  Policing_Area  Collision_Severity  Weekday_of_Collision  \\\n",
       "0              3518             19                   3                     1   \n",
       "1             10557              7                   3                     6   \n",
       "2              5002             28                   3                     3   \n",
       "3             11714              7                   3                     7   \n",
       "4             12416             32                   3                     1   \n",
       "\n",
       "   Day_of_Collision  Month_of_Collision  Hour_of_Collision  Carriageway_Type  \\\n",
       "0                 4                   8               14.0                13   \n",
       "1                 8                   8               17.0                11   \n",
       "2                 5                  11               17.0                 1   \n",
       "3                18                  10               16.0                12   \n",
       "4                23                  11                9.0                13   \n",
       "\n",
       "   Speed_Limit  Junction_Detail  Junction_Control  Ped_Crossing_HC  \\\n",
       "0           60              1.0               1.0              1.0   \n",
       "1           50             12.0               7.0              1.0   \n",
       "2           60             12.0               7.0              1.0   \n",
       "3           70              6.0               NaN              1.0   \n",
       "4           60              6.0               7.0              1.0   \n",
       "\n",
       "   Ped_Crossing_PC  Light_Conditions  Weather_Conditions  \\\n",
       "0              1.0                 2                   9   \n",
       "1              1.0                 4                   3   \n",
       "2              1.0                 2                   2   \n",
       "3              1.0                 1                   3   \n",
       "4              1.0                 2                   3   \n",
       "\n",
       "   Road_Surface_Conditions  Special_Conditions_at_Site  \n",
       "0                      9.0                         1.0  \n",
       "1                      1.0                         1.0  \n",
       "2                      2.0                         1.0  \n",
       "3                      1.0                         1.0  \n",
       "4                      1.0                         1.0  "
      ]
     },
     "execution_count": 23,
     "metadata": {},
     "output_type": "execute_result"
    }
   ],
   "source": [
    "data_train.head()"
   ]
  },
  {
   "cell_type": "code",
   "execution_count": 24,
   "metadata": {},
   "outputs": [
    {
     "data": {
      "image/png": "[encoded data removed]",
      "text/plain": [
       "<Figure size 1440x1080 with 12 Axes>"
      ]
     },
     "metadata": {
      "needs_background": "light"
     },
     "output_type": "display_data"
    }
   ],
   "source": [
    "data = data_train[['Policing_Area','Collision_Severity','Weekday_of_Collision','Month_of_Collision','Hour_of_Collision','Carriageway_Type','Speed_Limit','Junction_Detail','Junction_Control','Light_Conditions','Weather_Conditions','Road_Surface_Conditions']]\n",
    "data.hist(bins=50, figsize=(20,15))\n",
    "plt.show()"
   ]
  },
  {
   "cell_type": "code",
   "execution_count": 25,
   "metadata": {},
   "outputs": [],
   "source": [
    "#data_train['Policing_Area'] = le.inverse_transform(data_train['Policing_Area'])"
   ]
  },
  {
   "cell_type": "code",
   "execution_count": 26,
   "metadata": {},
   "outputs": [],
   "source": [
    "# Converting Nan Values to mean/mode etc.,\n",
    "data_train.isna().any()\n",
    "#data_train.mean()\n",
    "#data_train = data_train.fillna(data_train.median())\n",
    "# Taking care of missing values with most frequent values\n",
    "data_train = data_train.apply(lambda x:x.fillna(x.value_counts().index[0]))"
   ]
  },
  {
   "cell_type": "code",
   "execution_count": 27,
   "metadata": {},
   "outputs": [],
   "source": [
    "# lable encoder for data_test\n",
    "data_test['Collision_Severity'] = le.fit_transform(data_test['Collision_Severity'])\n",
    "le.fit(data_test['Policing_Area'].astype(str))\n",
    "data_test['Policing_Area'] = le.transform(data_test['Policing_Area'].astype(str))"
   ]
  },
  {
   "cell_type": "code",
   "execution_count": 28,
   "metadata": {},
   "outputs": [],
   "source": [
    "data_test.replace(['MON','TUE','WED','THU','FRI','SAT','SUN'], [1,2,3,4,5,6,7], inplace= True)"
   ]
  },
  {
   "cell_type": "code",
   "execution_count": 29,
   "metadata": {},
   "outputs": [],
   "source": [
    "labels_train = data_train[\"Collision_Severity\"]\n",
    "data_train_x = data_train.drop([\"Collision_Severity\", \"Collision_Ref_No\"], axis=1)\n",
    "\n",
    "data_test_x = data_test.drop([\"Collision_Severity\", \"Collision_Ref_No\"], axis=1)"
   ]
  },
  {
   "cell_type": "code",
   "execution_count": 30,
   "metadata": {},
   "outputs": [],
   "source": [
    "from sklearn.model_selection import train_test_split\n",
    "from sklearn import (svm, preprocessing)\n",
    "# splitting test vales into parts to find get lables\n",
    "data_variables = train_test_split(data_train_x, labels_train, test_size = 0.25, random_state = 42)\n",
    "data_train_l, data_test_l, labels_train_l, labels_test_l = data_variables\n",
    "\n",
    "scaler = preprocessing.StandardScaler()\n",
    "train_data_scaled = scaler.fit_transform(data_train_l)\n",
    "test_data_scaled = scaler.transform(data_test_l)\n",
    "\n",
    "test_data_scaled_x = scaler.transform(data_test_x)\n"
   ]
  },
  {
   "cell_type": "code",
   "execution_count": 31,
   "metadata": {},
   "outputs": [
    {
     "data": {
      "text/plain": [
       "89.47"
      ]
     },
     "execution_count": 31,
     "metadata": {},
     "output_type": "execute_result"
    }
   ],
   "source": [
    "import collections\n",
    "from sklearn.svm import SVC, LinearSVC\n",
    "#Support Vector Machines\n",
    "svc = SVC()\n",
    "svc.fit(train_data_scaled, labels_train_l)\n",
    "Y_pred = svc.predict(test_data_scaled)\n",
    "a = np.array(Y_pred)\n",
    "predict_svc = collections.Counter(a)\n",
    "acc_svc = round(svc.score(test_data_scaled, labels_test_l) * 100, 2)\n",
    "acc_svc"
   ]
  },
  {
   "cell_type": "code",
   "execution_count": 32,
   "metadata": {},
   "outputs": [
    {
     "name": "stderr",
     "output_type": "stream",
     "text": [
      "C:\\Users\\user\\anaconda3\\lib\\site-packages\\sklearn\\svm\\_base.py:947: ConvergenceWarning: Liblinear failed to converge, increase the number of iterations.\n",
      "  \"the number of iterations.\", ConvergenceWarning)\n"
     ]
    },
    {
     "data": {
      "text/plain": [
       "89.47"
      ]
     },
     "execution_count": 32,
     "metadata": {},
     "output_type": "execute_result"
    }
   ],
   "source": [
    "# Linear SVC\n",
    "linear_svc = LinearSVC()\n",
    "linear_svc.fit(train_data_scaled, labels_train_l)\n",
    "Y_pred = linear_svc.predict(test_data_scaled)\n",
    "a = np.array(Y_pred)\n",
    "predict_linear_svc = collections.Counter(a)\n",
    "acc_linear_svc = round(linear_svc.score(test_data_scaled, labels_test_l) * 100, 2)\n",
    "acc_linear_svc"
   ]
  },
  {
   "cell_type": "code",
   "execution_count": 33,
   "metadata": {},
   "outputs": [
    {
     "data": {
      "text/plain": [
       "89.47"
      ]
     },
     "execution_count": 33,
     "metadata": {},
     "output_type": "execute_result"
    }
   ],
   "source": [
    "# Stochastic Gradient Descent\n",
    "from sklearn.linear_model import SGDClassifier\n",
    "sgd = SGDClassifier()\n",
    "sgd.fit(train_data_scaled, labels_train_l)\n",
    "Y_pred = sgd.predict(test_data_scaled)\n",
    "a = np.array(Y_pred)\n",
    "predict_sgd = collections.Counter(a)\n",
    "acc_sgd = round(sgd.score(test_data_scaled, labels_test_l) * 100, 2)\n",
    "acc_sgd"
   ]
  },
  {
   "cell_type": "code",
   "execution_count": 34,
   "metadata": {},
   "outputs": [
    {
     "data": {
      "text/plain": [
       "86.94"
      ]
     },
     "execution_count": 34,
     "metadata": {},
     "output_type": "execute_result"
    }
   ],
   "source": [
    "#KNN\n",
    "from sklearn.neighbors import KNeighborsClassifier\n",
    "knn = KNeighborsClassifier(n_neighbors = 3)\n",
    "knn.fit(train_data_scaled, labels_train_l)\n",
    "Y_pred = knn.predict(test_data_scaled)\n",
    "a = np.array(Y_pred)\n",
    "predict_knn = collections.Counter(a)\n",
    "acc_knn = round(knn.score(test_data_scaled, labels_test_l) * 100, 2)\n",
    "acc_knn"
   ]
  },
  {
   "cell_type": "code",
   "execution_count": 35,
   "metadata": {},
   "outputs": [
    {
     "data": {
      "text/plain": [
       "89.47"
      ]
     },
     "execution_count": 35,
     "metadata": {},
     "output_type": "execute_result"
    }
   ],
   "source": [
    "#Logistic Regression\n",
    "from sklearn.linear_model import LogisticRegression\n",
    "logreg = LogisticRegression()\n",
    "logreg.fit(train_data_scaled, labels_train_l)\n",
    "Y_pred = logreg.predict(test_data_scaled)\n",
    "a = np.array(Y_pred)\n",
    "predict_log = collections.Counter(a)\n",
    "acc_log = round(logreg.score(test_data_scaled, labels_test_l) * 100, 2)\n",
    "acc_log"
   ]
  },
  {
   "cell_type": "code",
   "execution_count": 36,
   "metadata": {},
   "outputs": [
    {
     "data": {
      "text/plain": [
       "9.67"
      ]
     },
     "execution_count": 36,
     "metadata": {},
     "output_type": "execute_result"
    }
   ],
   "source": [
    "#Gaussian Naive Bayes\n",
    "from sklearn.naive_bayes import GaussianNB\n",
    "gaussian = GaussianNB()\n",
    "gaussian.fit(train_data_scaled, labels_train_l)\n",
    "Y_pred = gaussian.predict(test_data_scaled)\n",
    "a = np.array(Y_pred)\n",
    "predict_gaussian = collections.Counter(a)\n",
    "acc_gaussian = round(gaussian.score(test_data_scaled, labels_test_l) * 100, 2)\n",
    "acc_gaussian"
   ]
  },
  {
   "cell_type": "code",
   "execution_count": 37,
   "metadata": {},
   "outputs": [
    {
     "data": {
      "text/plain": [
       "85.27"
      ]
     },
     "execution_count": 37,
     "metadata": {},
     "output_type": "execute_result"
    }
   ],
   "source": [
    "#Decision Tree\n",
    "from sklearn.tree import DecisionTreeClassifier\n",
    "decision_tree = DecisionTreeClassifier()\n",
    "decision_tree.fit(train_data_scaled, labels_train_l)\n",
    "Y_pred = decision_tree.predict(test_data_scaled)\n",
    "a = np.array(Y_pred)\n",
    "predict_decision_tree = collections.Counter(a)\n",
    "acc_decision_tree = round(decision_tree.score(test_data_scaled, labels_test_l) * 100, 2)\n",
    "acc_decision_tree"
   ]
  },
  {
   "cell_type": "code",
   "execution_count": 56,
   "metadata": {},
   "outputs": [
    {
     "data": {
      "text/plain": [
       "90.06"
      ]
     },
     "execution_count": 56,
     "metadata": {},
     "output_type": "execute_result"
    }
   ],
   "source": [
    "#Random Forest\n",
    "from sklearn.ensemble import RandomForestClassifier\n",
    "random_forest = RandomForestClassifier(n_estimators=100)\n",
    "random_forest.fit(train_data_scaled, labels_train_l)\n",
    "Y_pred = random_forest.predict(test_data_scaled)\n",
    "a = np.array(Y_pred)\n",
    "predict_random_forest = collections.Counter(a)\n",
    "acc_random_forest = round(random_forest.score(test_data_scaled, labels_test_l) * 100, 2)\n",
    "acc_random_forest"
   ]
  },
  {
   "cell_type": "code",
   "execution_count": 57,
   "metadata": {},
   "outputs": [
    {
     "data": {
      "text/html": [
       "<div>\n",
       "<style scoped>\n",
       "    .dataframe tbody tr th:only-of-type {\n",
       "        vertical-align: middle;\n",
       "    }\n",
       "\n",
       "    .dataframe tbody tr th {\n",
       "        vertical-align: top;\n",
       "    }\n",
       "\n",
       "    .dataframe thead th {\n",
       "        text-align: right;\n",
       "    }\n",
       "</style>\n",
       "<table border=\"1\" class=\"dataframe\">\n",
       "  <thead>\n",
       "    <tr style=\"text-align: right;\">\n",
       "      <th></th>\n",
       "      <th>Model</th>\n",
       "      <th>Score</th>\n",
       "      <th>Count</th>\n",
       "    </tr>\n",
       "  </thead>\n",
       "  <tbody>\n",
       "    <tr>\n",
       "      <th>3</th>\n",
       "      <td>Random Forest</td>\n",
       "      <td>90.06</td>\n",
       "      <td>{3: 2183, 2: 30}</td>\n",
       "    </tr>\n",
       "    <tr>\n",
       "      <th>0</th>\n",
       "      <td>Support Vector Machines</td>\n",
       "      <td>89.47</td>\n",
       "      <td>{3: 2213}</td>\n",
       "    </tr>\n",
       "    <tr>\n",
       "      <th>2</th>\n",
       "      <td>Logistic Regression</td>\n",
       "      <td>89.47</td>\n",
       "      <td>{3: 2213}</td>\n",
       "    </tr>\n",
       "    <tr>\n",
       "      <th>5</th>\n",
       "      <td>Stochastic Gradient Decent</td>\n",
       "      <td>89.47</td>\n",
       "      <td>{3: 2213}</td>\n",
       "    </tr>\n",
       "    <tr>\n",
       "      <th>6</th>\n",
       "      <td>Linear SVC</td>\n",
       "      <td>89.47</td>\n",
       "      <td>{3: 2213}</td>\n",
       "    </tr>\n",
       "    <tr>\n",
       "      <th>1</th>\n",
       "      <td>KNN</td>\n",
       "      <td>86.94</td>\n",
       "      <td>{3: 2104, 2: 85, 1: 24}</td>\n",
       "    </tr>\n",
       "    <tr>\n",
       "      <th>7</th>\n",
       "      <td>Decision Tree</td>\n",
       "      <td>85.27</td>\n",
       "      <td>{3: 1932, 2: 239, 1: 42}</td>\n",
       "    </tr>\n",
       "    <tr>\n",
       "      <th>4</th>\n",
       "      <td>Naive Bayes</td>\n",
       "      <td>9.67</td>\n",
       "      <td>{1: 1981, 3: 190, 2: 42}</td>\n",
       "    </tr>\n",
       "  </tbody>\n",
       "</table>\n",
       "</div>"
      ],
      "text/plain": [
       "                        Model  Score                     Count\n",
       "3               Random Forest  90.06          {3: 2183, 2: 30}\n",
       "0     Support Vector Machines  89.47                 {3: 2213}\n",
       "2         Logistic Regression  89.47                 {3: 2213}\n",
       "5  Stochastic Gradient Decent  89.47                 {3: 2213}\n",
       "6                  Linear SVC  89.47                 {3: 2213}\n",
       "1                         KNN  86.94   {3: 2104, 2: 85, 1: 24}\n",
       "7               Decision Tree  85.27  {3: 1932, 2: 239, 1: 42}\n",
       "4                 Naive Bayes   9.67  {1: 1981, 3: 190, 2: 42}"
      ]
     },
     "execution_count": 57,
     "metadata": {},
     "output_type": "execute_result"
    }
   ],
   "source": [
    "models = pd.DataFrame({\n",
    "    'Model': ['Support Vector Machines', 'KNN', 'Logistic Regression', \n",
    "              'Random Forest', 'Naive Bayes', \n",
    "              'Stochastic Gradient Decent', 'Linear SVC', \n",
    "              'Decision Tree'],\n",
    "    'Score': [acc_svc, acc_knn, acc_log, \n",
    "              acc_random_forest, acc_gaussian, \n",
    "              acc_sgd, acc_linear_svc, acc_decision_tree],\n",
    "    'Count': [predict_svc, predict_knn, predict_log, \n",
    "              predict_random_forest, predict_gaussian, \n",
    "              predict_sgd, predict_linear_svc, predict_decision_tree]})\n",
    "models.sort_values(by='Score', ascending=False)"
   ]
  },
  {
   "cell_type": "code",
   "execution_count": null,
   "metadata": {},
   "outputs": [],
   "source": []
  }
 ],
 "metadata": {
  "kernelspec": {
   "display_name": "Python 3",
   "language": "python",
   "name": "python3"
  },
  "language_info": {
   "codemirror_mode": {
    "name": "ipython",
    "version": 3
   },
   "file_extension": ".py",
   "mimetype": "text/x-python",
   "name": "python",
   "nbconvert_exporter": "python",
   "pygments_lexer": "ipython3",
   "version": "3.7.6"
  }
 },
 "nbformat": 4,
 "nbformat_minor": 4
}
